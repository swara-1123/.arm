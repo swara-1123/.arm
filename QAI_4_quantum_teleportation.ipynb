{
 "cells": [
  {
   "cell_type": "code",
   "execution_count": 1,
   "id": "292d505a",
   "metadata": {},
   "outputs": [
    {
     "data": {
      "image/png": "[encoded data removed]",
      "text/plain": [
       "<Figure size 504x360 with 1 Axes>"
      ]
     },
     "execution_count": 1,
     "metadata": {},
     "output_type": "execute_result"
    }
   ],
   "source": [
    "from qiskit import QuantumCircuit, Aer, transpile, assemble, execute\n",
    "from qiskit.visualization import plot_histogram\n",
    "\n",
    "# Create a 3-qubit quantum circuit\n",
    "qc = QuantumCircuit(3, 3)\n",
    "\n",
    "# Prepare the initial state to teleport\n",
    "qc.x(0)  # Apply an X gate to qubit 0\n",
    "\n",
    "# Create entanglement between qubit 1 and 2\n",
    "qc.h(1)\n",
    "qc.cx(1, 2)\n",
    "\n",
    "# Apply the teleportation process\n",
    "qc.cx(0, 1)\n",
    "qc.h(0)\n",
    "qc.measure([0, 1], [0, 1])\n",
    "\n",
    "# Apply corrections based on the measurement outcomes\n",
    "qc.cx(1, 2)\n",
    "qc.cz(0, 2)\n",
    "qc.measure(2, 2)\n",
    "\n",
    "# Simulate the circuit\n",
    "simulator = Aer.get_backend('qasm_simulator')\n",
    "result = execute(qc, simulator, shots=1000).result()\n",
    "counts = result.get_counts()\n",
    "\n",
    "# Visualize the measurement outcomes\n",
    "plot_histogram(counts)\n"
   ]
  },
  {
   "cell_type": "markdown",
   "id": "14aad192",
   "metadata": {},
   "source": [
    "\n",
    "\n",
    "1. `from qiskit import QuantumCircuit, Aer, transpile, assemble, execute`: Import the necessary components from Qiskit, including `QuantumCircuit` for creating quantum circuits, `Aer` for the simulator backend, and functions for transpilation, assembly, and execution.\n",
    "\n",
    "2. `from qiskit.visualization import plot_histogram`: Import the `plot_histogram` function for visualizing measurement outcomes.\n",
    "\n",
    "3. `qc = QuantumCircuit(3, 3)`: Create a quantum circuit with three quantum qubits and three classical bits, ready for Quantum Teleportation.\n",
    "\n",
    "4. `qc.x(0)`: Apply an X gate to the first qubit (qubit 0) to prepare an initial state to be teleported.\n",
    "\n",
    "5. `qc.h(1)`: Apply a Hadamard gate to the second qubit (qubit 1) to create entanglement with the third qubit (qubit 2).\n",
    "\n",
    "6. `qc.cx(1, 2)`: Apply a CNOT gate between qubit 1 (control) and qubit 2 (target) to create entanglement. This prepares the qubits for teleportation.\n",
    "\n",
    "7. `qc.cx(0, 1)`: Apply a CNOT gate between qubit 0 (control) and qubit 1 (target) to perform part of the teleportation.\n",
    "\n",
    "8. `qc.h(0)`: Apply a Hadamard gate to qubit 0. This is another step in the teleportation process.\n",
    "\n",
    "9. `qc.measure([0, 1], [0, 1])`: Measure qubits 0 and 1 and store the measurement results in classical bits 0 and 1. These measurements carry information to be used in the teleportation.\n",
    "\n",
    "10. `qc.cx(1, 2)`: Apply a CNOT gate between qubit 1 (control) and qubit 2 (target) to complete the teleportation.\n",
    "\n",
    "11. `qc.cz(0, 2)`: Apply a controlled-Z (CZ) gate between qubit 0 (control) and qubit 2 (target) as the final step of the teleportation process.\n",
    "\n",
    "12. `qc.measure(2, 2)`: Measure qubit 2 and store the result in classical bit 2, representing the teleported state.\n",
    "\n",
    "13. `simulator = Aer.get_backend('qasm_simulator')`: Select the Qiskit Aer simulator as the backend for simulating the circuit.\n",
    "\n",
    "14. `result = execute(qc, simulator, shots=1000).result()`: Execute the quantum circuit on the simulator, specifying that 1000 measurements (shots) should be taken to gather statistics.\n",
    "\n",
    "15. `counts = result.get_counts()`: Retrieve the counts of measurement outcomes, which represent the distribution of the teleported state.\n",
    "\n",
    "16. `plot_histogram(counts)`: Visualize the measurement outcomes using a histogram, showing the probability of each outcome after the teleportation process.\n",
    "\n"
   ]
  }
 ],
 "metadata": {
  "kernelspec": {
   "display_name": "Python 3 (ipykernel)",
   "language": "python",
   "name": "python3"
  },
  "language_info": {
   "codemirror_mode": {
    "name": "ipython",
    "version": 3
   },
   "file_extension": ".py",
   "mimetype": "text/x-python",
   "name": "python",
   "nbconvert_exporter": "python",
   "pygments_lexer": "ipython3",
   "version": "3.9.16"
  }
 },
 "nbformat": 4,
 "nbformat_minor": 5
}
