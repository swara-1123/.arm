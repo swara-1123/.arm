{
 "cells": [
  {
   "cell_type": "code",
   "execution_count": 1,
   "id": "77ecfce3",
   "metadata": {},
   "outputs": [],
   "source": [
    "# Import general libraries (needed for functions)\n",
    "import numpy as np\n",
    "import matplotlib.pyplot as plt\n",
    "from IPython import display"
   ]
  },
  {
   "cell_type": "code",
   "execution_count": 3,
   "id": "5722f992",
   "metadata": {},
   "outputs": [
    {
     "name": "stdout",
     "output_type": "stream",
     "text": [
      "Defaulting to user installation because normal site-packages is not writeable\n",
      "Collecting qiskit\n",
      "  Downloading qiskit-0.43.3.tar.gz (9.1 kB)\n",
      "  Installing build dependencies: started\n",
      "  Installing build dependencies: finished with status 'done'\n",
      "  Getting requirements to build wheel: started\n",
      "  Getting requirements to build wheel: finished with status 'done'\n",
      "  Installing backend dependencies: started\n",
      "  Installing backend dependencies: finished with status 'done'\n",
      "  Preparing metadata (pyproject.toml): started\n",
      "  Preparing metadata (pyproject.toml): finished with status 'done'\n",
      "Collecting qiskit-terra==0.24.2\n",
      "  Downloading qiskit_terra-0.24.2-cp39-cp39-win_amd64.whl (5.0 MB)\n",
      "     ---------------------------------------- 5.0/5.0 MB 2.4 MB/s eta 0:00:00\n",
      "Collecting qiskit-aer==0.12.2\n",
      "  Downloading qiskit_aer-0.12.2-cp39-cp39-win_amd64.whl (9.6 MB)\n",
      "     ---------------------------------------- 9.6/9.6 MB 2.4 MB/s eta 0:00:00\n",
      "Collecting qiskit-ibmq-provider==0.20.2\n",
      "  Downloading qiskit_ibmq_provider-0.20.2-py3-none-any.whl (241 kB)\n",
      "     -------------------------------------- 241.5/241.5 kB 2.5 MB/s eta 0:00:00\n",
      "Requirement already satisfied: scipy>=1.0 in c:\\programdata\\anaconda3\\lib\\site-packages (from qiskit-aer==0.12.2->qiskit) (1.9.1)\n",
      "Requirement already satisfied: numpy>=1.16.3 in c:\\users\\dell\\appdata\\roaming\\python\\python39\\site-packages (from qiskit-aer==0.12.2->qiskit) (1.23.5)\n",
      "Collecting requests-ntlm<=1.1.0\n",
      "  Downloading requests_ntlm-1.1.0-py2.py3-none-any.whl (5.7 kB)\n",
      "Requirement already satisfied: urllib3>=1.21.1 in c:\\programdata\\anaconda3\\lib\\site-packages (from qiskit-ibmq-provider==0.20.2->qiskit) (1.26.11)\n",
      "Requirement already satisfied: python-dateutil>=2.8.0 in c:\\programdata\\anaconda3\\lib\\site-packages (from qiskit-ibmq-provider==0.20.2->qiskit) (2.8.2)\n",
      "Collecting websockets>=10.0\n",
      "  Downloading websockets-11.0.3-cp39-cp39-win_amd64.whl (124 kB)\n",
      "     -------------------------------------- 124.7/124.7 kB 2.4 MB/s eta 0:00:00\n",
      "Requirement already satisfied: requests>=2.19 in c:\\programdata\\anaconda3\\lib\\site-packages (from qiskit-ibmq-provider==0.20.2->qiskit) (2.28.1)\n",
      "Collecting websocket-client>=1.5.1\n",
      "  Downloading websocket_client-1.6.1-py3-none-any.whl (56 kB)\n",
      "     ---------------------------------------- 56.9/56.9 kB 1.5 MB/s eta 0:00:00\n",
      "Requirement already satisfied: dill>=0.3 in c:\\programdata\\anaconda3\\lib\\site-packages (from qiskit-terra==0.24.2->qiskit) (0.3.4)\n",
      "Collecting stevedore>=3.0.0\n",
      "  Downloading stevedore-5.1.0-py3-none-any.whl (49 kB)\n",
      "     ---------------------------------------- 49.6/49.6 kB 2.5 MB/s eta 0:00:00\n",
      "Requirement already satisfied: sympy>=1.3 in c:\\programdata\\anaconda3\\lib\\site-packages (from qiskit-terra==0.24.2->qiskit) (1.10.1)\n",
      "Collecting ply>=3.10\n",
      "  Downloading ply-3.11-py2.py3-none-any.whl (49 kB)\n",
      "     ---------------------------------------- 49.6/49.6 kB 2.6 MB/s eta 0:00:00\n",
      "Collecting rustworkx>=0.12.0\n",
      "  Downloading rustworkx-0.13.0-cp39-cp39-win_amd64.whl (1.4 MB)\n",
      "     ---------------------------------------- 1.4/1.4 MB 2.4 MB/s eta 0:00:00\n",
      "Requirement already satisfied: psutil>=5 in c:\\programdata\\anaconda3\\lib\\site-packages (from qiskit-terra==0.24.2->qiskit) (5.9.0)\n",
      "Requirement already satisfied: six>=1.5 in c:\\programdata\\anaconda3\\lib\\site-packages (from python-dateutil>=2.8.0->qiskit-ibmq-provider==0.20.2->qiskit) (1.16.0)\n",
      "Requirement already satisfied: certifi>=2017.4.17 in c:\\programdata\\anaconda3\\lib\\site-packages (from requests>=2.19->qiskit-ibmq-provider==0.20.2->qiskit) (2022.9.14)\n",
      "Requirement already satisfied: idna<4,>=2.5 in c:\\programdata\\anaconda3\\lib\\site-packages (from requests>=2.19->qiskit-ibmq-provider==0.20.2->qiskit) (3.3)\n",
      "Requirement already satisfied: charset-normalizer<3,>=2 in c:\\programdata\\anaconda3\\lib\\site-packages (from requests>=2.19->qiskit-ibmq-provider==0.20.2->qiskit) (2.0.4)\n",
      "Collecting ntlm-auth>=1.0.2\n",
      "  Downloading ntlm_auth-1.5.0-py2.py3-none-any.whl (29 kB)\n",
      "Requirement already satisfied: cryptography>=1.3 in c:\\programdata\\anaconda3\\lib\\site-packages (from requests-ntlm<=1.1.0->qiskit-ibmq-provider==0.20.2->qiskit) (37.0.1)\n",
      "Collecting pbr!=2.1.0,>=2.0.0\n",
      "  Downloading pbr-5.11.1-py2.py3-none-any.whl (112 kB)\n",
      "     -------------------------------------- 112.7/112.7 kB 2.2 MB/s eta 0:00:00\n",
      "Requirement already satisfied: mpmath>=0.19 in c:\\programdata\\anaconda3\\lib\\site-packages (from sympy>=1.3->qiskit-terra==0.24.2->qiskit) (1.2.1)\n",
      "Requirement already satisfied: cffi>=1.12 in c:\\programdata\\anaconda3\\lib\\site-packages (from cryptography>=1.3->requests-ntlm<=1.1.0->qiskit-ibmq-provider==0.20.2->qiskit) (1.15.1)\n",
      "Requirement already satisfied: pycparser in c:\\programdata\\anaconda3\\lib\\site-packages (from cffi>=1.12->cryptography>=1.3->requests-ntlm<=1.1.0->qiskit-ibmq-provider==0.20.2->qiskit) (2.21)\n",
      "Building wheels for collected packages: qiskit\n",
      "  Building wheel for qiskit (pyproject.toml): started\n",
      "  Building wheel for qiskit (pyproject.toml): finished with status 'done'\n",
      "  Created wheel for qiskit: filename=qiskit-0.43.3-py3-none-any.whl size=7665 sha256=36b3d9cb757f9390ed28daa58f580c08382dce9f31742c7c136ea0a63f13ef10\n",
      "  Stored in directory: c:\\users\\dell\\appdata\\local\\pip\\cache\\wheels\\7a\\f3\\90\\29095a2cf8e382cda9a84f770986a62267e1f52613686af562\n",
      "Successfully built qiskit\n",
      "Installing collected packages: ply, websockets, websocket-client, rustworkx, pbr, ntlm-auth, stevedore, requests-ntlm, qiskit-terra, qiskit-ibmq-provider, qiskit-aer, qiskit\n",
      "Successfully installed ntlm-auth-1.5.0 pbr-5.11.1 ply-3.11 qiskit-0.43.3 qiskit-aer-0.12.2 qiskit-ibmq-provider-0.20.2 qiskit-terra-0.24.2 requests-ntlm-1.1.0 rustworkx-0.13.0 stevedore-5.1.0 websocket-client-1.6.1 websockets-11.0.3\n",
      "Note: you may need to restart the kernel to use updated packages.\n"
     ]
    },
    {
     "name": "stderr",
     "output_type": "stream",
     "text": [
      "  WARNING: The script wsdump.exe is installed in 'C:\\Users\\DELL\\AppData\\Roaming\\Python\\Python39\\Scripts' which is not on PATH.\n",
      "  Consider adding this directory to PATH or, if you prefer to suppress this warning, use --no-warn-script-location.\n",
      "  WARNING: The script pbr.exe is installed in 'C:\\Users\\DELL\\AppData\\Roaming\\Python\\Python39\\Scripts' which is not on PATH.\n",
      "  Consider adding this directory to PATH or, if you prefer to suppress this warning, use --no-warn-script-location.\n"
     ]
    }
   ],
   "source": [
    "pip install qiskit"
   ]
  },
  {
   "cell_type": "code",
   "execution_count": 5,
   "id": "86fdfbef",
   "metadata": {},
   "outputs": [
    {
     "name": "stdout",
     "output_type": "stream",
     "text": [
      "Defaulting to user installation because normal site-packages is not writeable\n",
      "Collecting qiskit.ignis\n",
      "  Downloading qiskit_ignis-0.7.1-py3-none-any.whl (198 kB)\n",
      "     -------------------------------------- 198.7/198.7 kB 2.0 MB/s eta 0:00:00\n",
      "Requirement already satisfied: numpy>=1.13 in c:\\users\\dell\\appdata\\roaming\\python\\python39\\site-packages (from qiskit.ignis) (1.23.5)\n",
      "Requirement already satisfied: setuptools>=40.1.0 in c:\\programdata\\anaconda3\\lib\\site-packages (from qiskit.ignis) (63.4.1)\n",
      "Requirement already satisfied: qiskit-terra>=0.15.1 in c:\\users\\dell\\appdata\\roaming\\python\\python39\\site-packages (from qiskit.ignis) (0.24.2)\n",
      "Requirement already satisfied: scipy!=0.19.1,>=0.19 in c:\\programdata\\anaconda3\\lib\\site-packages (from qiskit.ignis) (1.9.1)\n",
      "Collecting retworkx>=0.8.0\n",
      "  Downloading retworkx-0.13.0-py3-none-any.whl (10 kB)\n",
      "Requirement already satisfied: stevedore>=3.0.0 in c:\\users\\dell\\appdata\\roaming\\python\\python39\\site-packages (from qiskit-terra>=0.15.1->qiskit.ignis) (5.1.0)\n",
      "Requirement already satisfied: rustworkx>=0.12.0 in c:\\users\\dell\\appdata\\roaming\\python\\python39\\site-packages (from qiskit-terra>=0.15.1->qiskit.ignis) (0.13.0)\n",
      "Requirement already satisfied: python-dateutil>=2.8.0 in c:\\programdata\\anaconda3\\lib\\site-packages (from qiskit-terra>=0.15.1->qiskit.ignis) (2.8.2)\n",
      "Requirement already satisfied: dill>=0.3 in c:\\programdata\\anaconda3\\lib\\site-packages (from qiskit-terra>=0.15.1->qiskit.ignis) (0.3.4)\n",
      "Requirement already satisfied: sympy>=1.3 in c:\\programdata\\anaconda3\\lib\\site-packages (from qiskit-terra>=0.15.1->qiskit.ignis) (1.10.1)\n",
      "Requirement already satisfied: psutil>=5 in c:\\programdata\\anaconda3\\lib\\site-packages (from qiskit-terra>=0.15.1->qiskit.ignis) (5.9.0)\n",
      "Requirement already satisfied: ply>=3.10 in c:\\users\\dell\\appdata\\roaming\\python\\python39\\site-packages (from qiskit-terra>=0.15.1->qiskit.ignis) (3.11)\n",
      "Requirement already satisfied: six>=1.5 in c:\\programdata\\anaconda3\\lib\\site-packages (from python-dateutil>=2.8.0->qiskit-terra>=0.15.1->qiskit.ignis) (1.16.0)\n",
      "Requirement already satisfied: pbr!=2.1.0,>=2.0.0 in c:\\users\\dell\\appdata\\roaming\\python\\python39\\site-packages (from stevedore>=3.0.0->qiskit-terra>=0.15.1->qiskit.ignis) (5.11.1)\n",
      "Requirement already satisfied: mpmath>=0.19 in c:\\programdata\\anaconda3\\lib\\site-packages (from sympy>=1.3->qiskit-terra>=0.15.1->qiskit.ignis) (1.2.1)\n",
      "Installing collected packages: retworkx, qiskit.ignis\n",
      "Successfully installed qiskit.ignis-0.7.1 retworkx-0.13.0\n",
      "Note: you may need to restart the kernel to use updated packages.\n"
     ]
    }
   ],
   "source": [
    "pip install qiskit.ignis"
   ]
  },
  {
   "cell_type": "code",
   "execution_count": 2,
   "id": "34378475",
   "metadata": {},
   "outputs": [
    {
     "name": "stderr",
     "output_type": "stream",
     "text": [
      "C:\\Users\\DELL\\AppData\\Local\\Temp\\ipykernel_2716\\1536378431.py:2: DeprecationWarning: The qiskit.ignis package is deprecated and has been supersceded by the qiskit-experiments project. Refer to the migration guide: https://github.com/Qiskit/qiskit-ignis#migration-guide on how to migrate to the new project.\n",
      "  import qiskit.ignis.verification.randomized_benchmarking as rb\n"
     ]
    }
   ],
   "source": [
    "# Import the RB Functions\n",
    "import qiskit.ignis.verification.randomized_benchmarking as rb\n",
    "\n",
    "# Import Qiskit classes \n",
    "import qiskit\n",
    "from qiskit import assemble, transpile\n",
    "from qiskit.providers.aer.noise import NoiseModel\n",
    "from qiskit.providers.aer.noise.errors.standard_errors import depolarizing_error, thermal_relaxation_error"
   ]
  },
  {
   "cell_type": "code",
   "execution_count": 3,
   "id": "ba180000",
   "metadata": {},
   "outputs": [],
   "source": [
    "# Generate RB circuits (2Q RB)\n",
    "\n",
    "# number of qubits\n",
    "nQ = 2 \n",
    "rb_opts = {}\n",
    "#Number of Cliffords in the sequence\n",
    "rb_opts['length_vector'] = [1, 10, 20, 50, 75, 100, 125, 150, 175, 200]\n",
    "# Number of seeds (random sequences)\n",
    "rb_opts['nseeds'] = 5\n",
    "# Default pattern\n",
    "rb_opts['rb_pattern'] = [[0, 1]]\n",
    "\n",
    "rb_circs, xdata = rb.randomized_benchmarking_seq(**rb_opts)"
   ]
  },
  {
   "cell_type": "code",
   "execution_count": 4,
   "id": "36858a03",
   "metadata": {},
   "outputs": [
    {
     "data": {
      "text/html": [
       "<pre style=\"word-wrap: normal;white-space: pre;background: #fff0;line-height: 1.1;font-family: &quot;Courier New&quot;,Courier,monospace\">      ┌───┐┌───┐     ┌─────┐┌───┐                ░                  ┌───┐┌───┐»\n",
       "qr_0: ┤ Z ├┤ S ├──■──┤ Sdg ├┤ H ├──■─────────────░───────────────■──┤ H ├┤ S ├»\n",
       "      ├───┤└───┘┌─┴─┐├─────┤├───┤┌─┴─┐┌───┐┌───┐ ░ ┌─────┐┌───┐┌─┴─┐├───┤├───┤»\n",
       "qr_1: ┤ S ├─────┤ X ├┤ Sdg ├┤ H ├┤ X ├┤ H ├┤ S ├─░─┤ Sdg ├┤ H ├┤ X ├┤ H ├┤ S ├»\n",
       "      └───┘     └───┘└─────┘└───┘└───┘└───┘└───┘ ░ └─────┘└───┘└───┘└───┘└───┘»\n",
       "cr: 2/════════════════════════════════════════════════════════════════════════»\n",
       "                                                                              »\n",
       "«           ┌─────┐┌───┐┌─┐\n",
       "«qr_0: ──■──┤ Sdg ├┤ Z ├┤M├\n",
       "«      ┌─┴─┐├─────┤└┬─┬┘└╥┘\n",
       "«qr_1: ┤ X ├┤ Sdg ├─┤M├──╫─\n",
       "«      └───┘└─────┘ └╥┘  ║ \n",
       "«cr: 2/══════════════╩═══╩═\n",
       "«                    1   0 </pre>"
      ],
      "text/plain": [
       "      ┌───┐┌───┐     ┌─────┐┌───┐                ░                  ┌───┐┌───┐»\n",
       "qr_0: ┤ Z ├┤ S ├──■──┤ Sdg ├┤ H ├──■─────────────░───────────────■──┤ H ├┤ S ├»\n",
       "      ├───┤└───┘┌─┴─┐├─────┤├───┤┌─┴─┐┌───┐┌───┐ ░ ┌─────┐┌───┐┌─┴─┐├───┤├───┤»\n",
       "qr_1: ┤ S ├─────┤ X ├┤ Sdg ├┤ H ├┤ X ├┤ H ├┤ S ├─░─┤ Sdg ├┤ H ├┤ X ├┤ H ├┤ S ├»\n",
       "      └───┘     └───┘└─────┘└───┘└───┘└───┘└───┘ ░ └─────┘└───┘└───┘└───┘└───┘»\n",
       "cr: 2/════════════════════════════════════════════════════════════════════════»\n",
       "                                                                              »\n",
       "«           ┌─────┐┌───┐┌─┐\n",
       "«qr_0: ──■──┤ Sdg ├┤ Z ├┤M├\n",
       "«      ┌─┴─┐├─────┤└┬─┬┘└╥┘\n",
       "«qr_1: ┤ X ├┤ Sdg ├─┤M├──╫─\n",
       "«      └───┘└─────┘ └╥┘  ║ \n",
       "«cr: 2/══════════════╩═══╩═\n",
       "«                    1   0 "
      ]
     },
     "execution_count": 4,
     "metadata": {},
     "output_type": "execute_result"
    }
   ],
   "source": [
    "rb_circs[0][0].draw()"
   ]
  },
  {
   "cell_type": "code",
   "execution_count": 5,
   "id": "2c4df8d8",
   "metadata": {},
   "outputs": [],
   "source": [
    "# Create a new circuit without the measurement\n",
    "qregs = rb_circs[0][-1].qregs\n",
    "cregs = rb_circs[0][-1].cregs\n",
    "qc = qiskit.QuantumCircuit(*qregs, *cregs)\n",
    "for i in rb_circs[0][-1][0:-nQ]:\n",
    "    qc.data.append(i)"
   ]
  },
  {
   "cell_type": "code",
   "execution_count": 6,
   "id": "bfb981d8",
   "metadata": {},
   "outputs": [
    {
     "data": {
      "text/latex": [
       "$$\n",
       "\\text{Unitary} = \n",
       "\\begin{bmatrix}\n",
       "1 & 0 & 0 & 0  \\\\\n",
       " 0 & 1 & 0 & 0  \\\\\n",
       " 0 & 0 & 1 & 0  \\\\\n",
       " 0 & 0 & 0 & 1  \\\\\n",
       " \\end{bmatrix}\n",
       "$$"
      ],
      "text/plain": [
       "<IPython.core.display.Latex object>"
      ]
     },
     "execution_count": 6,
     "metadata": {},
     "output_type": "execute_result"
    }
   ],
   "source": [
    "# The Unitary is an identity (with a global phase)\n",
    "sim = qiskit.Aer.get_backend('aer_simulator')\n",
    "basis_gates = ['u1','u2','u3','cx'] # use U,CX for now\n",
    "qc.save_unitary()\n",
    "unitary = sim.run(qc).result().get_unitary()\n",
    "from qiskit.visualization import array_to_latex\n",
    "array_to_latex(unitary, prefix=\"\\\\text{Unitary} = \")"
   ]
  },
  {
   "cell_type": "code",
   "execution_count": 7,
   "id": "d7ef781b",
   "metadata": {},
   "outputs": [],
   "source": [
    "# Run on a noisy simulator\n",
    "noise_model = NoiseModel()\n",
    "\n",
    "# Depolarizing error on the gates u2, u3 and cx (assuming the u1 is virtual-Z gate and no error)\n",
    "p1Q = 0.002\n",
    "p2Q = 0.01\n",
    "\n",
    "noise_model.add_all_qubit_quantum_error(depolarizing_error(p1Q, 1), 'u2')\n",
    "noise_model.add_all_qubit_quantum_error(depolarizing_error(2 * p1Q, 1), 'u3')\n",
    "noise_model.add_all_qubit_quantum_error(depolarizing_error(p2Q, 2), 'cx')\n",
    "\n",
    "backend = qiskit.Aer.get_backend('aer_simulator')"
   ]
  },
  {
   "cell_type": "code",
   "execution_count": 8,
   "id": "9371b088",
   "metadata": {},
   "outputs": [
    {
     "name": "stdout",
     "output_type": "stream",
     "text": [
      "Compiling seed 0\n",
      "Simulating seed 0\n",
      "After seed 0, alpha: 0.978052, EPC: 0.016461\n",
      "Compiling seed 1\n"
     ]
    },
    {
     "name": "stderr",
     "output_type": "stream",
     "text": [
      "C:\\Users\\DELL\\AppData\\Local\\Temp\\ipykernel_2716\\3484222176.py:13: DeprecationWarning: Using a qobj for run() is deprecated as of qiskit-aer 0.9.0 and will be removed no sooner than 3 months from that release date. Transpiled circuits should now be passed directly using `backend.run(circuits, **run_options).\n",
      "  job = backend.run(qobj,\n"
     ]
    },
    {
     "name": "stdout",
     "output_type": "stream",
     "text": [
      "Simulating seed 1\n",
      "After seed 1, alpha: 0.979945, EPC: 0.015041\n",
      "Compiling seed 2\n",
      "Simulating seed 2\n",
      "After seed 2, alpha: 0.980771, EPC: 0.014422\n",
      "Compiling seed 3\n",
      "Simulating seed 3\n",
      "After seed 3, alpha: 0.981701, EPC: 0.013724\n",
      "Compiling seed 4\n",
      "Simulating seed 4\n",
      "After seed 4, alpha: 0.981416, EPC: 0.013938\n"
     ]
    }
   ],
   "source": [
    "# Create the RB fitter\n",
    "backend = qiskit.Aer.get_backend('aer_simulator')\n",
    "basis_gates = ['u1','u2','u3','cx'] \n",
    "shots = 200\n",
    "transpiled_circs_list = []\n",
    "rb_fit = rb.RBFitter(None, xdata, rb_opts['rb_pattern'])\n",
    "for rb_seed, rb_circ_seed in enumerate(rb_circs):\n",
    "    print(f'Compiling seed {rb_seed}')\n",
    "    new_rb_circ_seed = qiskit.compiler.transpile(rb_circ_seed, basis_gates=basis_gates)\n",
    "    transpiled_circs_list.append(new_rb_circ_seed)\n",
    "    print(f'Simulating seed {rb_seed}')\n",
    "    qobj = assemble(new_rb_circ_seed, shots=shots)\n",
    "    job = backend.run(qobj,\n",
    "                      noise_model=noise_model,\n",
    "                      max_parallel_experiments=0)\n",
    "    # Add data to the fitter\n",
    "    rb_fit.add_data(job.result())\n",
    "    print('After seed %d, alpha: %f, EPC: %f'%(rb_seed,rb_fit.fit[0]['params'][1], rb_fit.fit[0]['epc']))"
   ]
  },
  {
   "cell_type": "code",
   "execution_count": 9,
   "id": "84849e80",
   "metadata": {},
   "outputs": [
    {
     "data": {
      "image/png": "[encoded data removed]",
      "text/plain": [
       "<Figure size 800x600 with 1 Axes>"
      ]
     },
     "metadata": {},
     "output_type": "display_data"
    }
   ],
   "source": [
    "plt.figure(figsize=(8, 6))\n",
    "ax = plt.subplot(1, 1, 1)\n",
    "\n",
    "# Plot the essence by calling plot_rb_data\n",
    "rb_fit.plot_rb_data(0, ax=ax, add_label=True, show_plt=False)\n",
    "    \n",
    "# Add title and label\n",
    "ax.set_title('%d Qubit RB'%(nQ), fontsize=18)\n",
    "\n",
    "plt.show()"
   ]
  },
  {
   "cell_type": "code",
   "execution_count": 10,
   "id": "9bf1ebbb",
   "metadata": {},
   "outputs": [
    {
     "name": "stdout",
     "output_type": "stream",
     "text": [
      "Number of u1 gates per Clifford: 0.126201\n",
      "Number of u2 gates per Clifford: 1.659607\n",
      "Number of u3 gates per Clifford: 0.176092\n",
      "Number of cx gates per Clifford: 1.500437\n"
     ]
    }
   ],
   "source": [
    "# count the number of single and 2Q gates in the 2Q Cliffords\n",
    "qubits = rb_opts['rb_pattern'][0]\n",
    "\n",
    "gate_per_cliff = rb.rb_utils.gates_per_clifford(\n",
    "    transpiled_circuits_list=transpiled_circs_list,\n",
    "    clifford_lengths=xdata[0],\n",
    "    basis=basis_gates,\n",
    "    qubits=qubits)\n",
    "\n",
    "for basis_gate in basis_gates:\n",
    "    print(\"Number of %s gates per Clifford: %f\"%(\n",
    "        basis_gate,\n",
    "        np.mean([gate_per_cliff[qubit][basis_gate] for qubit in qubits])))"
   ]
  },
  {
   "cell_type": "code",
   "execution_count": 11,
   "id": "ac480658",
   "metadata": {},
   "outputs": [
    {
     "name": "stdout",
     "output_type": "stream",
     "text": [
      "Predicted 2Q Error per Clifford: 1.596996e-02 (aer simulator result: 1.393819e-02)\n"
     ]
    }
   ],
   "source": [
    "# convert from depolarizing error to epg (1Q)\n",
    "epg_q0 = {'u1': 0, 'u2': p1Q/2, 'u3': 2 * p1Q/2}\n",
    "epg_q1 = {'u1': 0, 'u2': p1Q/2, 'u3': 2 * p1Q/2}\n",
    "\n",
    "# convert from depolarizing error to epg (2Q)\n",
    "epg_q01 = 3/4 * p2Q\n",
    "\n",
    "# calculate the predicted epc from underlying gate errors \n",
    "pred_epc = rb.rb_utils.calculate_2q_epc(\n",
    "    gate_per_cliff=gate_per_cliff,\n",
    "    epg_2q=epg_q01,\n",
    "    qubit_pair=qubits,\n",
    "    list_epgs_1q=[epg_q0, epg_q1])\n",
    "\n",
    "print(\"Predicted 2Q Error per Clifford: %e (aer simulator result: %e)\" % (pred_epc, rb_fit.fit[0]['epc']))"
   ]
  },
  {
   "cell_type": "code",
   "execution_count": 12,
   "id": "40bbc83b",
   "metadata": {},
   "outputs": [
    {
     "name": "stdout",
     "output_type": "stream",
     "text": [
      "Predicted 2Q Error per gate: 6.118331e-03 (gate error model: 7.500000e-03)\n"
     ]
    }
   ],
   "source": [
    "# use 2Q EPC from aer simulator result and 1Q EPGs from depolarizing error model\n",
    "pred_epg = rb.rb_utils.calculate_2q_epg(\n",
    "    gate_per_cliff=gate_per_cliff,\n",
    "    epc_2q=rb_fit.fit[0]['epc'],\n",
    "    qubit_pair=qubits,\n",
    "    list_epgs_1q=[epg_q0, epg_q1])\n",
    "\n",
    "print(\"Predicted 2Q Error per gate: %e (gate error model: %e)\" % (pred_epg, epg_q01))"
   ]
  },
  {
   "cell_type": "code",
   "execution_count": null,
   "id": "2b07b755",
   "metadata": {},
   "outputs": [],
   "source": []
  }
 ],
 "metadata": {
  "kernelspec": {
   "display_name": "Python 3 (ipykernel)",
   "language": "python",
   "name": "python3"
  },
  "language_info": {
   "codemirror_mode": {
    "name": "ipython",
    "version": 3
   },
   "file_extension": ".py",
   "mimetype": "text/x-python",
   "name": "python",
   "nbconvert_exporter": "python",
   "pygments_lexer": "ipython3",
   "version": "3.9.12"
  }
 },
 "nbformat": 4,
 "nbformat_minor": 5
}
