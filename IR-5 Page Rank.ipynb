{
 "cells": [
  {
   "cell_type": "code",
   "execution_count": 1,
   "id": "887206ad",
   "metadata": {},
   "outputs": [
    {
     "name": "stdout",
     "output_type": "stream",
     "text": [
      "[0.17924751 0.10618019 0.19643335 0.34255365 0.1755853 ]\n"
     ]
    }
   ],
   "source": [
    "import numpy as np\n",
    "\n",
    "\n",
    "def pageRank(M, num_iter: int = 100, d: float = 0.85):\n",
    "    \"\"\"\n",
    "    Parameters\n",
    "    ----------\n",
    "    M : numpy array\n",
    "        adjacency matrix where M[i,j] represents the link from 'j' to 'i', such that for all 'j' -> sum(i, M[i,j]) = 1\n",
    "    num_iter : int, optional\n",
    "        number of iterations (default 100)\n",
    "    d : float, optional\n",
    "        damping factor (default 0.85)\n",
    "\n",
    "\n",
    "    Returns\n",
    "    -------\n",
    "    numpy array\n",
    "        vector of ranks such that v[i] is the i-th rank from [0, 1],\n",
    "        v sums to 1\n",
    "    \"\"\"\n",
    "    N = M.shape[1]\n",
    "    v = np.ones(N) / N\n",
    "    M_hat = (d * M + (1 - d) / N)\n",
    "    for i in range(num_iter):\n",
    "        v = M_hat @ v\n",
    "    return v\n",
    "\n",
    "\n",
    "M = np.array([[0, 0, 0, 0, 1],\n",
    "              [0.5, 0, 0, 0, 0],\n",
    "              [0.5, 1, 0, 0, 0],\n",
    "              [0, 0, 1, 0.5, 0],\n",
    "              [0, 0, 0, 0.5, 0]])\n",
    "v = pageRank(M, 100, 0.85)\n",
    "print(v)"
   ]
  },
  {
   "cell_type": "code",
   "execution_count": null,
   "id": "05a96f32",
   "metadata": {},
   "outputs": [],
   "source": []
  }
 ],
 "metadata": {
  "kernelspec": {
   "display_name": "Python 3 (ipykernel)",
   "language": "python",
   "name": "python3"
  },
  "language_info": {
   "codemirror_mode": {
    "name": "ipython",
    "version": 3
   },
   "file_extension": ".py",
   "mimetype": "text/x-python",
   "name": "python",
   "nbconvert_exporter": "python",
   "pygments_lexer": "ipython3",
   "version": "3.9.7"
  }
 },
 "nbformat": 4,
 "nbformat_minor": 5
}
