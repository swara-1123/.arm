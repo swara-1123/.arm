{
 "cells": [
  {
   "cell_type": "code",
   "execution_count": 1,
   "id": "238ebd79",
   "metadata": {},
   "outputs": [
    {
     "name": "stdout",
     "output_type": "stream",
     "text": [
      "Measurement outcomes:\n",
      "{'010': 520, '011': 504}\n"
     ]
    }
   ],
   "source": [
    "import warnings\n",
    "warnings.filterwarnings('ignore')\n",
    "\n",
    "from qiskit import QuantumCircuit, Aer, transpile, assemble\n",
    "from qiskit.visualization import plot_histogram\n",
    "\n",
    "# Define the three-qubit bit-flip code circuit\n",
    "def bit_flip_code():\n",
    "    # Create a quantum circuit with 3 qubits and 3 classical bits\n",
    "    qc = QuantumCircuit(3, 3)\n",
    "\n",
    "    # Step 1: Encoding (using 3 qubits to protect 1 logical qubit)\n",
    "    qc.h(0)  # Apply Hadamard gate to qubit 0 (superposition)\n",
    "    qc.cx(0, 1)  # Apply CNOT gate between qubit 0 and qubit 1\n",
    "    qc.cx(0, 2)  # Apply CNOT gate between qubit 0 and qubit 2\n",
    "\n",
    "    # Step 2: Simulate an error (bit-flip error on qubit 1)\n",
    "    qc.x(1)  # Apply X gate (bit-flip) to qubit 1\n",
    "\n",
    "    # Step 3: Error correction\n",
    "    qc.cx(0, 1)  # Apply CNOT gate between qubit 0 and qubit 1\n",
    "    qc.cx(0, 2)  # Apply CNOT gate between qubit 0 and qubit 2\n",
    "    qc.ccx(2, 1, 0)  # Apply Toffoli gate to perform majority vote (error correction)\n",
    "\n",
    "    # Step 4: Measurement\n",
    "    qc.measure([0, 1, 2], [0, 1, 2])  # Measure all qubits and store the result in classical bits\n",
    "\n",
    "    return qc\n",
    "\n",
    "# Simulate the circuit and plot the results\n",
    "def simulate_circuit(circuit):\n",
    "    # Use the Aer simulator\n",
    "    simulator = Aer.get_backend('qasm_simulator')\n",
    "\n",
    "    # Transpile the circuit for the simulator\n",
    "    transpiled_circuit = transpile(circuit, simulator)\n",
    "\n",
    "    # Assemble the transpiled circuit for the simulator\n",
    "    qobj = assemble(transpiled_circuit)\n",
    "\n",
    "    # Execute the circuit on the simulator\n",
    "    result = simulator.run(qobj).result()\n",
    "\n",
    "    # Get the counts of the measurement outcomes\n",
    "    counts = result.get_counts(transpiled_circuit)\n",
    "    return counts\n",
    "\n",
    "if __name__ == \"__main__\":\n",
    "    # Create and run the circuit\n",
    "    circuit = bit_flip_code()\n",
    "    counts = simulate_circuit(circuit)\n",
    "\n",
    "    # Plot the measurement outcomes\n",
    "    print(\"Measurement outcomes:\")\n",
    "    print(counts)\n",
    "    plot_histogram(counts)\n"
   ]
  },
  {
   "cell_type": "code",
   "execution_count": 3,
   "id": "8279744b",
   "metadata": {},
   "outputs": [
    {
     "name": "stdout",
     "output_type": "stream",
     "text": [
      "Measurement results: {'0000000': 1024}\n"
     ]
    },
    {
     "data": {
      "image/png": "[encoded data removed]",
      "text/plain": [
       "<Figure size 700x500 with 1 Axes>"
      ]
     },
     "execution_count": 3,
     "metadata": {},
     "output_type": "execute_result"
    }
   ],
   "source": [
    "from qiskit import QuantumCircuit, Aer, transpile, execute\n",
    "from qiskit.providers.aer.noise import NoiseModel, errors\n",
    "from qiskit.visualization import plot_histogram\n",
    "\n",
    "# Create a 7-qubit quantum circuit for the Steane code\n",
    "code = QuantumCircuit(7, 7)\n",
    "\n",
    "# Encoding step (apply 7-qubit encoding gates)\n",
    "code.cx(0, 3)\n",
    "code.cx(0, 5)\n",
    "code.cx(1, 3)\n",
    "code.cx(1, 6)\n",
    "code.cx(2, 4)\n",
    "code.cx(2, 6)\n",
    "code.barrier()\n",
    "\n",
    "# Simulate a bit-flip error on qubit 3\n",
    "error = errors.depolarizing_error(0.1, 1)\n",
    "noise_model = NoiseModel()\n",
    "noise_model.add_all_qubit_quantum_error(error, ['x'], [3])\n",
    "\n",
    "# Error correction step (using code to correct the error)\n",
    "code.cx(0, 1)\n",
    "code.cx(0, 2)\n",
    "code.ccx(2, 1, 0)\n",
    "code.cx(3, 4)\n",
    "code.cx(3, 5)\n",
    "code.ccx(5, 4, 3)\n",
    "code.barrier()\n",
    "\n",
    "# Measure the code qubits\n",
    "code.measure(range(7), range(7))\n",
    "\n",
    "# Transpile the circuit with error correction\n",
    "transpiled_code = transpile(code, basis_gates=['u1', 'u2', 'u3', 'cx'], optimization_level=1)\n",
    "\n",
    "# Execute the circuit with noise\n",
    "simulator = Aer.get_backend('qasm_simulator')\n",
    "job = execute(transpiled_code, simulator, noise_model=noise_model, shots=1024)\n",
    "result = job.result()\n",
    "\n",
    "# Get the measurement results\n",
    "counts = result.get_counts()\n",
    "print(\"Measurement results:\", counts)\n",
    "plot_histogram(counts)"
   ]
  }
 ],
 "metadata": {
  "kernelspec": {
   "display_name": "Python 3 (ipykernel)",
   "language": "python",
   "name": "python3"
  },
  "language_info": {
   "codemirror_mode": {
    "name": "ipython",
    "version": 3
   },
   "file_extension": ".py",
   "mimetype": "text/x-python",
   "name": "python",
   "nbconvert_exporter": "python",
   "pygments_lexer": "ipython3",
   "version": "3.9.16"
  }
 },
 "nbformat": 4,
 "nbformat_minor": 5
}
