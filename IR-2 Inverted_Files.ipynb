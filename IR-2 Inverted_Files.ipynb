{
 "cells": [
  {
   "cell_type": "code",
   "execution_count": 1,
   "id": "b918ea04",
   "metadata": {},
   "outputs": [],
   "source": [
    "file = open('first.txt', encoding='utf8')\n",
    "read = file.read()\n",
    "\n",
    "file1 = open('second.txt', encoding='utf8')\n",
    "read1 = file1.read()"
   ]
  },
  {
   "cell_type": "code",
   "execution_count": 2,
   "id": "f3f8dd90",
   "metadata": {},
   "outputs": [
    {
     "name": "stdout",
     "output_type": "stream",
     "text": [
      "fox -> Document 1\n",
      "dog -> Document 2\n",
      "brown -> Document 1\n",
      "jumped -> Document 1\n",
      "over -> Document 1\n",
      "lazy -> Document 1, Document 2\n",
      "slept -> Document 2\n",
      "dog. -> Document 1\n",
      "sun. -> Document 2\n",
      "quick -> Document 1\n",
      "the -> Document 1, Document 2\n",
      "in -> Document 2\n"
     ]
    }
   ],
   "source": [
    "tokens1 = read.lower().split()\n",
    "tokens2 = read1.lower().split()\n",
    " \n",
    "# Combine the tokens into a list of unique terms\n",
    "terms = list(set(tokens1 + tokens2))\n",
    " \n",
    "# Step 2: Build the inverted index\n",
    "# Create an empty dictionary to store the inverted index\n",
    "inverted_index = {}\n",
    " \n",
    "# For each term, find the documents that contain it\n",
    "for term in terms:\n",
    "    documents = []\n",
    "    if term in tokens1:\n",
    "        documents.append(\"Document 1\")\n",
    "    if term in tokens2:\n",
    "        documents.append(\"Document 2\")\n",
    "    inverted_index[term] = documents\n",
    " \n",
    "# Step 3: Print the inverted index\n",
    "for term, documents in inverted_index.items():\n",
    "    print(term, \"->\", \", \".join(documents))"
   ]
  },
  {
   "cell_type": "code",
   "execution_count": 3,
   "id": "3b993af8",
   "metadata": {},
   "outputs": [
    {
     "name": "stdout",
     "output_type": "stream",
     "text": [
      "Enter the querylazy\n",
      "the quick brown fox jumped over the lazy dog.\n",
      "the lazy dog slept in the sun.\n"
     ]
    }
   ],
   "source": [
    "query = input(\"Enter the query\")\n",
    "if query in tokens1:\n",
    "        print(\" \".join(tokens1))\n",
    "if query in tokens2:\n",
    "        print(\" \".join(tokens2))"
   ]
  }
 ],
 "metadata": {
  "kernelspec": {
   "display_name": "Python 3 (ipykernel)",
   "language": "python",
   "name": "python3"
  },
  "language_info": {
   "codemirror_mode": {
    "name": "ipython",
    "version": 3
   },
   "file_extension": ".py",
   "mimetype": "text/x-python",
   "name": "python",
   "nbconvert_exporter": "python",
   "pygments_lexer": "ipython3",
   "version": "3.9.7"
  }
 },
 "nbformat": 4,
 "nbformat_minor": 5
}
