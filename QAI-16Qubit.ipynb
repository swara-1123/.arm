{
 "cells": [
  {
   "cell_type": "code",
   "execution_count": 1,
   "id": "8de27f37",
   "metadata": {},
   "outputs": [
    {
     "name": "stdout",
     "output_type": "stream",
     "text": [
      "Executing Job...\n",
      "\n",
      "RESULT:  {'0101001101100011': 1} \n",
      "\n",
      "Press any key to close\n",
      "Y\n"
     ]
    },
    {
     "data": {
      "text/plain": [
       "'Y'"
      ]
     },
     "execution_count": 1,
     "metadata": {},
     "output_type": "execute_result"
    }
   ],
   "source": [
    "import warnings\n",
    "warnings.filterwarnings('ignore')\n",
    "\n",
    "from qiskit import QuantumRegister, ClassicalRegister, QuantumCircuit, execute,IBMQ\n",
    "\n",
    "IBMQ.enable_account('da1cdbb57f467d18808853c964e2105b657fc7d6442f8dfd0452f2f991ec3fb217c8be37b4a1c290a6b6624972851d259c0de563be4f70c536b404344454a491')\n",
    "provider = IBMQ.get_provider(hub='ibm-q')\n",
    "\n",
    "q = QuantumRegister(16,'q')\n",
    "c = ClassicalRegister(16,'c')\n",
    "circuit = QuantumCircuit(q,c)\n",
    "circuit.h(q) # Applies hadamard gate to all qubits\n",
    "circuit.measure(q,c) # Measures all qubits \n",
    "\n",
    "backend = provider.get_backend('ibmq_qasm_simulator')\n",
    "job = execute(circuit, backend, shots=1)\n",
    "                               \n",
    "print('Executing Job...\\n')                 \n",
    "result = job.result()\n",
    "counts = result.get_counts(circuit)\n",
    "\n",
    "print('RESULT: ',counts,'\\n')\n",
    "print('Press any key to close')\n",
    "input()\n"
   ]
  }
 ],
 "metadata": {
  "kernelspec": {
   "display_name": "Python 3 (ipykernel)",
   "language": "python",
   "name": "python3"
  },
  "language_info": {
   "codemirror_mode": {
    "name": "ipython",
    "version": 3
   },
   "file_extension": ".py",
   "mimetype": "text/x-python",
   "name": "python",
   "nbconvert_exporter": "python",
   "pygments_lexer": "ipython3",
   "version": "3.9.16"
  }
 },
 "nbformat": 4,
 "nbformat_minor": 5
}
