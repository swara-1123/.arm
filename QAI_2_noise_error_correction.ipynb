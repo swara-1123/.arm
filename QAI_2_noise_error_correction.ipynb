{
 "cells": [
  {
   "cell_type": "code",
   "execution_count": 1,
   "id": "8537a90e",
   "metadata": {},
   "outputs": [
    {
     "name": "stdout",
     "output_type": "stream",
     "text": [
      "Measurement outcomes:\n",
      "{'010': 520, '011': 504}\n"
     ]
    },
    {
     "data": {
      "image/png": "[encoded data removed]",
      "text/plain": [
       "<Figure size 504x360 with 1 Axes>"
      ]
     },
     "execution_count": 1,
     "metadata": {},
     "output_type": "execute_result"
    }
   ],
   "source": [
    "from qiskit import QuantumCircuit, Aer, execute\n",
    "from qiskit.visualization import plot_histogram\n",
    "\n",
    "# Create a quantum circuit with 3 qubits\n",
    "qc = QuantumCircuit(3, 3)\n",
    "\n",
    "# Step 1: Encoding (using 3 qubits to protect 1 logical qubit)\n",
    "qc.h(0)   # Apply Hadamard gate to qubit 0 (superposition)\n",
    "qc.cx(0, 1)  # Apply CNOT gate between qubit 0 and qubit 1\n",
    "qc.cx(0, 2)  # Apply CNOT gate between qubit 0 and qubit 2\n",
    "\n",
    "# Step 2: Simulate an error (bit-flip error on qubit 1)\n",
    "qc.x(1)   # Apply X gate (bit-flip) to qubit 1\n",
    "\n",
    "# Step 3: Error correction\n",
    "qc.cx(0, 1)  # Apply CNOT gate between qubit 0 and qubit 1\n",
    "qc.cx(0, 2)  # Apply CNOT gate between qubit 0 and qubit 2\n",
    "qc.ccx(2, 1, 0)  # Apply Toffoli gate to perform majority vote (error correction)\n",
    "\n",
    "# Step 4: Measurement\n",
    "qc.measure([0, 1, 2], [0, 1, 2])  # Measure all qubits and store the result in classical bits\n",
    "\n",
    "# Simulate the circuit\n",
    "simulator = Aer.get_backend('qasm_simulator')\n",
    "result = execute(qc, simulator).result()\n",
    "\n",
    "# Get the counts of the measurement outcomes\n",
    "counts = result.get_counts(qc)\n",
    "\n",
    "# Plot the measurement outcomes\n",
    "print(\"Measurement outcomes:\")\n",
    "print(counts)\n",
    "plot_histogram(counts)\n"
   ]
  },
  {
   "cell_type": "code",
   "execution_count": null,
   "id": "6ced5714",
   "metadata": {},
   "outputs": [],
   "source": [
    "Certainly, here's an explanation of the simplified code for bit-flip error correction using the repetition code:\n",
    "\n",
    "1. `from qiskit import QuantumCircuit, Aer, execute`: Import the necessary components from Qiskit. `QuantumCircuit` is used to create quantum circuits, `Aer` is used to select the simulator backend, and `execute` is used to run the circuit.\n",
    "\n",
    "2. `from qiskit.visualization import plot_histogram`: Import the function `plot_histogram` to visualize measurement outcomes.\n",
    "\n",
    "3. `qc = QuantumCircuit(3, 3)`: Create a quantum circuit named `qc` with 3 quantum qubits and 3 classical bits. This line sets up the circuit structure.\n",
    "\n",
    "4. `qc.h(0)`: Apply a Hadamard gate (H gate) to the first qubit (qubit 0). This puts the qubit into a superposition state, which is the initial step of encoding.\n",
    "\n",
    "5. `qc.cx(0, 1)`: Apply a CNOT gate (controlled-X gate) between qubit 0 and qubit 1. This entangles qubits 0 and 1.\n",
    "\n",
    "6. `qc.cx(0, 2)`: Apply another CNOT gate between qubit 0 and qubit 2. This entangles all three qubits. These steps represent the encoding, where three qubits are used to protect one logical qubit.\n",
    "\n",
    "7. `qc.x(1)`: Simulate an error by applying an X gate (bit-flip gate) to qubit 1, introducing a bit-flip error.\n",
    "\n",
    "8. `qc.cx(0, 1)`: Apply a CNOT gate between qubit 0 and qubit 1 again, starting the error correction process.\n",
    "\n",
    "9. `qc.cx(0, 2)`: Similarly, apply a CNOT gate between qubit 0 and qubit 2 to prepare for error correction.\n",
    "\n",
    "10. `qc.ccx(2, 1, 0)`: Apply a Toffoli gate (CCX gate) to perform majority vote-based error correction. If the majority of qubits 0, 1, and 2 disagree, it corrects the error.\n",
    "\n",
    "11. `qc.measure([0, 1, 2], [0, 1, 2])`: Measure all three qubits and store the measurement results in corresponding classical bits.\n",
    "\n",
    "12. `simulator = Aer.get_backend('qasm_simulator')`: Select the Qiskit Aer simulator as the backend for simulating the quantum circuit.\n",
    "\n",
    "13. `result = execute(qc, simulator).result()`: Execute the quantum circuit `qc` on the selected simulator and obtain the simulation result.\n",
    "\n",
    "14. `counts = result.get_counts(qc)`: Retrieve the counts of measurement outcomes from the simulation result. This tells you how often each possible outcome occurred.\n",
    "\n",
    "15. `print(\"Measurement outcomes:\")`: Print a message to indicate that the following output shows measurement outcomes.\n",
    "\n",
    "16. `print(counts)`: Print the counts of measurement outcomes, which indicate the success of error correction.\n",
    "\n",
    "17. `plot_histogram(counts)`: Visualize the measurement outcomes in a histogram, allowing you to see how well the error correction process worked."
   ]
  }
 ],
 "metadata": {
  "kernelspec": {
   "display_name": "Python 3 (ipykernel)",
   "language": "python",
   "name": "python3"
  },
  "language_info": {
   "codemirror_mode": {
    "name": "ipython",
    "version": 3
   },
   "file_extension": ".py",
   "mimetype": "text/x-python",
   "name": "python",
   "nbconvert_exporter": "python",
   "pygments_lexer": "ipython3",
   "version": "3.9.12"
  }
 },
 "nbformat": 4,
 "nbformat_minor": 5
}
