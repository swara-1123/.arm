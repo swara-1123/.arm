{
 "cells": [
  {
   "cell_type": "code",
   "execution_count": 1,
   "id": "a31260fc",
   "metadata": {},
   "outputs": [
    {
     "name": "stdout",
     "output_type": "stream",
     "text": [
      "Generated Random Number: 32892\n"
     ]
    }
   ],
   "source": [
    "import warnings\n",
    "warnings.filterwarnings('ignore')\n",
    "\n",
    "from qiskit import QuantumCircuit, Aer, transpile, assemble\n",
    "from qiskit.visualization import plot_bloch_multivector\n",
    "import numpy as np\n",
    "\n",
    "# Initialize a quantum circuit with 16 qubits\n",
    "n_qubits = 16\n",
    "circuit = QuantumCircuit(n_qubits, n_qubits)\n",
    "\n",
    "# Apply a series of Hadamard gates to create superposition\n",
    "circuit.h(range(n_qubits))\n",
    "\n",
    "# Measure the qubits to obtain the random number\n",
    "circuit.measure(range(n_qubits), range(n_qubits))\n",
    "\n",
    "# Simulate the circuit on a classical simulator\n",
    "simulator = Aer.get_backend('aer_simulator')\n",
    "compiled_circuit = transpile(circuit, simulator)\n",
    "job = assemble(compiled_circuit, shots=1)\n",
    "result = simulator.run(job).result()\n",
    "\n",
    "# Extract and print the measured random number\n",
    "random_number = int(result.get_counts(circuit).most_frequent(), 2)\n",
    "print(\"Generated Random Number:\", random_number)"
   ]
  }
 ],
 "metadata": {
  "kernelspec": {
   "display_name": "Python 3 (ipykernel)",
   "language": "python",
   "name": "python3"
  },
  "language_info": {
   "codemirror_mode": {
    "name": "ipython",
    "version": 3
   },
   "file_extension": ".py",
   "mimetype": "text/x-python",
   "name": "python",
   "nbconvert_exporter": "python",
   "pygments_lexer": "ipython3",
   "version": "3.9.16"
  }
 },
 "nbformat": 4,
 "nbformat_minor": 5
}
